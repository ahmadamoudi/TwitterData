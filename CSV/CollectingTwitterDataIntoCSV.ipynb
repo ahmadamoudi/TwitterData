{
 "cells": [
  {
   "cell_type": "code",
   "execution_count": 1,
   "metadata": {},
   "outputs": [],
   "source": [
    "# importing required libraries\n",
    "import tweepy\n",
    "import csv\n",
    "import datetime\n",
    "import time"
   ]
  },
  {
   "cell_type": "code",
   "execution_count": 2,
   "metadata": {},
   "outputs": [],
   "source": [
    "#define and store your credintials\n",
    "\n",
    "consumer_key = ''\n",
    "consumer_secret = ''\n",
    "\n",
    "access_token = ''\n",
    "access_token_secret = ''"
   ]
  },
  {
   "cell_type": "code",
   "execution_count": 3,
   "metadata": {},
   "outputs": [],
   "source": [
    "#Tweepy auth\n",
    "auth = tweepy.OAuthHandler(consumer_key, consumer_secret)\n",
    "auth.set_access_token(access_token, access_token_secret)\n",
    "api = tweepy.API(auth)"
   ]
  },
  {
   "cell_type": "code",
   "execution_count": 16,
   "metadata": {},
   "outputs": [
    {
     "name": "stdout",
     "output_type": "stream",
     "text": [
      "Enter keyword: Jeddah\n"
     ]
    }
   ],
   "source": [
    "#Enter the keyword (kw) that you want to collect tweets based on it\n",
    "kw = input('Enter keyword: ')"
   ]
  },
  {
   "cell_type": "code",
   "execution_count": 17,
   "metadata": {},
   "outputs": [
    {
     "name": "stdout",
     "output_type": "stream",
     "text": [
      "Number of tweet (enter -1 if you want max number) : 200\n"
     ]
    }
   ],
   "source": [
    "#Enter the number of the tweets you want to fetch\n",
    "num = int(input('Number of tweet (enter -1 if you want max number) : '))"
   ]
  },
  {
   "cell_type": "code",
   "execution_count": 18,
   "metadata": {},
   "outputs": [],
   "source": [
    "# Open/Create a file to append data\n",
    "csvFile = open(kw+'.csv', 'a')"
   ]
  },
  {
   "cell_type": "code",
   "execution_count": 19,
   "metadata": {},
   "outputs": [],
   "source": [
    "#Use csv Writer\n",
    "csvWriter = csv.writer(csvFile)"
   ]
  },
  {
   "cell_type": "code",
   "execution_count": 20,
   "metadata": {
    "scrolled": true
   },
   "outputs": [
    {
     "data": {
      "text/plain": [
       "41"
      ]
     },
     "execution_count": 20,
     "metadata": {},
     "output_type": "execute_result"
    }
   ],
   "source": [
    "#Columns that you want to print in CSV file\n",
    "csvWriter.writerow(['Tweet_Date', 'user_id','Followers','Tweet_text'])"
   ]
  },
  {
   "cell_type": "code",
   "execution_count": 22,
   "metadata": {},
   "outputs": [],
   "source": [
    "\n",
    "apicalls = 0\n",
    "counter =0"
   ]
  },
  {
   "cell_type": "code",
   "execution_count": 21,
   "metadata": {},
   "outputs": [
    {
     "name": "stdout",
     "output_type": "stream",
     "text": [
      "Fetch Finished\n"
     ]
    }
   ],
   "source": [
    "for tweet in tweepy.Cursor(api.search,q=kw,count=100).items():\n",
    "    \n",
    "    apicalls = apicalls+1\n",
    "    if (apicalls == 150*100):\n",
    "        print(\"sleep\")\n",
    "        apicalls = 0\n",
    "        time.sleep(15*60)\n",
    "    \n",
    "    \n",
    "    csvWriter.writerow([tweet.created_at, tweet.user.screen_name, tweet.user.followers_count, tweet.text.encode('utf-8')])\n",
    "    counter=counter+1\n",
    "    \n",
    "    if num==-1:\n",
    "        pass\n",
    "    elif counter==num:\n",
    "        break\n",
    "        \n",
    "\n",
    "print(\"Fetch Finished\")"
   ]
  }
 ],
 "metadata": {
  "kernelspec": {
   "display_name": "Python 3",
   "language": "python",
   "name": "python3"
  },
  "language_info": {
   "codemirror_mode": {
    "name": "ipython",
    "version": 3
   },
   "file_extension": ".py",
   "mimetype": "text/x-python",
   "name": "python",
   "nbconvert_exporter": "python",
   "pygments_lexer": "ipython3",
   "version": "3.7.1"
  }
 },
 "nbformat": 4,
 "nbformat_minor": 4
}
